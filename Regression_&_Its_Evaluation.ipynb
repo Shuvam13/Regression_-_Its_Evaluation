{
  "nbformat": 4,
  "nbformat_minor": 0,
  "metadata": {
    "colab": {
      "provenance": []
    },
    "kernelspec": {
      "name": "python3",
      "display_name": "Python 3"
    },
    "language_info": {
      "name": "python"
    }
  },
  "cells": [
    {
      "cell_type": "markdown",
      "source": [
        "#Regression & Its Evaluation | Assignment"
      ],
      "metadata": {
        "id": "my7ZRyAzhQWP"
      }
    },
    {
      "cell_type": "markdown",
      "source": [
        "1. What is Simple Linear Regression?\n",
        "   - Simple Linear Regression is a statistical method used to model the relationship between two continuous variables: one independent variable (predictor) and one dependent variable (response).\n",
        "\n",
        "2. What are the key assumptions of Simple Linear Regression?\n",
        "   - The key assumptions of Simple Linear Regression are:\n",
        "     - Linearity: The relationship between the independent and dependent variables is linear.\n",
        "     - Independence: The observations are independent of each other.\n",
        "     - Homoscedasticity: The variance of the errors is constant across all levels of the independent variable.\n",
        "     - Normality: The errors are normally distributed.\n",
        "     - No multicollinearity: If there are multiple independent variables (in the case of multiple linear regression), they should not be highly correlated with each other.\n",
        "\n",
        "3. What is heteroscedasticity, and why is it important to address in regression\n",
        "models?\n",
        "   - Heteroscedasticity is a condition in regression analysis wherethe spread of the residuals around the regression line changes as the value of the independent variable changes.\n",
        "   IMPORTANCE:\n",
        "   - Inefficient estimates: While the regression coefficients may still be unbiased, their standard errors will be incorrect.\n",
        "   - Incorrect hypothesis tests: The incorrect standard errors will affect the t-tests and F-tests used for hypothesis testing.\n",
        "   - Invalid confidence intervals: Confidence intervals for the regression coefficients will also be incorrect, making it difficult to determine the true range of possible values for the coefficients.\n",
        "\n",
        "4. What is Multiple Linear Regression?\n",
        "   - Multiple Linear Regression is an extension of simple linear regression. While simple linear regression models the relationship between a dependent variable and one independent variable, multiple linear regression models the relationship between a dependent variable and two or more independent variables.\n",
        "\n",
        "5. What is polynomial regression, and how does it differ from linear\n",
        "regression?\n",
        "   - Polynomial regression is a type of regression analysis where the relationship between the independent variable(s) and the dependent variable is modeled as an nth-degree polynomial.\n",
        "   Here's how it differs from linear regression:\n",
        "   - Relationship: Linear regression models a straight-line relationship, while polynomial regression models a curved relationship using polynomial term.\n",
        "   - Equation: In simple linear regression, the equation is typically. In polynomial regression, the equation includes higher-order terms.\n",
        "   - Flexibility: Polynomial regression offers more flexibility in capturing non-linear patterns in the data compared to linear regression."
      ],
      "metadata": {
        "id": "V6auhmZQhVd3"
      }
    },
    {
      "cell_type": "markdown",
      "source": [
        "6. Implement a Python program to fit a Simple Linear Regression model to\n",
        "the following sample data:\n",
        "\n",
        "     ● X = [1, 2, 3, 4, 5]\n",
        "\n",
        "     ● Y = [2.1, 4.3, 6.1, 7.9, 10.2]"
      ],
      "metadata": {
        "id": "VsptGKuXl3Jq"
      }
    },
    {
      "cell_type": "code",
      "metadata": {
        "colab": {
          "base_uri": "https://localhost:8080/"
        },
        "id": "6a450504",
        "outputId": "f6a04cd6-d0b4-4018-9754-e7d8aae13515"
      },
      "source": [
        "import numpy as np\n",
        "from sklearn.linear_model import LinearRegression\n",
        "\n",
        "X = np.array([1, 2, 3, 4, 5]).reshape(-1, 1)\n",
        "Y = np.array([2.1, 4.3, 6.1, 7.9, 10.2])\n",
        "\n",
        "model = LinearRegression()\n",
        "\n",
        "model.fit(X, Y)\n",
        "\n",
        "print(\"Intercept:\", model.intercept_)\n",
        "print(\"Coefficient:\", model.coef_[0])"
      ],
      "execution_count": 1,
      "outputs": [
        {
          "output_type": "stream",
          "name": "stdout",
          "text": [
            "Intercept: 0.17999999999999794\n",
            "Coefficient: 1.9800000000000004\n"
          ]
        }
      ]
    },
    {
      "cell_type": "markdown",
      "source": [
        "7. Fit a Multiple Linear Regression model on this sample data:\n",
        "\n",
        "   ● Area = [1200, 1500, 1800, 2000]\n",
        "\n",
        "   ● Rooms = [2, 3, 3, 4]\n",
        "\n",
        "   ● Price = [250000, 300000, 320000, 370000]\n",
        "\n",
        "     Check for multicollinearity using VIF and report the results.\n"
      ],
      "metadata": {
        "id": "boYkOc6vmjxg"
      }
    },
    {
      "cell_type": "code",
      "metadata": {
        "colab": {
          "base_uri": "https://localhost:8080/"
        },
        "id": "041857fa",
        "outputId": "2ecf2cad-87ef-44b4-c72d-da3fb70dd54b"
      },
      "source": [
        "import numpy as np\n",
        "import pandas as pd\n",
        "from sklearn.linear_model import LinearRegression\n",
        "import statsmodels.api as sm\n",
        "from statsmodels.stats.outliers_influence import variance_inflation_factor\n",
        "\n",
        "Area = [1200, 1500, 1800, 2000]\n",
        "Rooms = [2, 3, 3, 4]\n",
        "Price = [250000, 300000, 320000, 370000]\n",
        "\n",
        "data = pd.DataFrame({'Area': Area, 'Rooms': Rooms, 'Price': Price})\n",
        "\n",
        "X = data[['Area', 'Rooms']]\n",
        "y = data['Price']\n",
        "\n",
        "model = LinearRegression()\n",
        "model.fit(X, y)\n",
        "\n",
        "print(\"Intercept:\", model.intercept_)\n",
        "print(\"Coefficients:\", model.coef_)\n",
        "\n",
        "X_with_constant = sm.add_constant(X)\n",
        "vif_data = pd.DataFrame()\n",
        "vif_data[\"Variable\"] = X_with_constant.columns\n",
        "vif_data[\"VIF\"] = [variance_inflation_factor(X_with_constant.values, i)\n",
        "                   for i in range(X_with_constant.shape[1])]\n",
        "\n",
        "print(\"\\nMulticollinearity Check (VIF):\")\n",
        "print(vif_data)"
      ],
      "execution_count": 4,
      "outputs": [
        {
          "output_type": "stream",
          "name": "stdout",
          "text": [
            "Intercept: 103157.89473684214\n",
            "Coefficients: [   63.15789474 34736.84210526]\n",
            "\n",
            "Multicollinearity Check (VIF):\n",
            "  Variable        VIF\n",
            "0    const  34.210526\n",
            "1     Area   7.736842\n",
            "2    Rooms   7.736842\n"
          ]
        }
      ]
    },
    {
      "cell_type": "markdown",
      "source": [
        "8. Implement polynomial regression on the following data:\n",
        "\n",
        "     ● X = [1, 2, 3, 4, 5]\n",
        "\n",
        "     ● Y = [2.2, 4.8, 7.5, 11.2, 14.7]\n",
        "\n",
        "     Fit a 2nd-degree polynomial and plot the resulting curve.\n"
      ],
      "metadata": {
        "id": "LGWPqIu6nehB"
      }
    },
    {
      "cell_type": "code",
      "metadata": {
        "colab": {
          "base_uri": "https://localhost:8080/",
          "height": 507
        },
        "id": "bfab660c",
        "outputId": "08f24286-ba77-4181-f928-6261850b3c0c"
      },
      "source": [
        "import numpy as np\n",
        "import matplotlib.pyplot as plt\n",
        "from sklearn.linear_model import LinearRegression\n",
        "from sklearn.preprocessing import PolynomialFeatures\n",
        "\n",
        "X = np.array([1, 2, 3, 4, 5]).reshape(-1, 1)\n",
        "Y = np.array([2.2, 4.8, 7.5, 11.2, 14.7])\n",
        "\n",
        "poly_features = PolynomialFeatures(degree=2)\n",
        "X_poly = poly_features.fit_transform(X)\n",
        "\n",
        "model = LinearRegression()\n",
        "model.fit(X_poly, Y)\n",
        "\n",
        "X_plot = np.linspace(X.min(), X.max(), 100).reshape(-1, 1)\n",
        "X_plot_poly = poly_features.transform(X_plot)\n",
        "Y_plot = model.predict(X_plot_poly)\n",
        "\n",
        "plt.scatter(X, Y, color='blue', label='Original Data')\n",
        "plt.plot(X_plot, Y_plot, color='red', label='2nd Degree Polynomial Fit')\n",
        "plt.xlabel('X')\n",
        "plt.ylabel('Y')\n",
        "plt.title('Polynomial Regression (Degree 2)')\n",
        "plt.legend()\n",
        "plt.grid(True)\n",
        "plt.show()\n",
        "\n",
        "print(\"Polynomial Regression Coefficients:\", model.coef_)\n",
        "print(\"Polynomial Regression Intercept:\", model.intercept_)"
      ],
      "execution_count": 6,
      "outputs": [
        {
          "output_type": "display_data",
          "data": {
            "text/plain": [
              "<Figure size 640x480 with 1 Axes>"
            ],
            "image/png": "[encoded data removed]"
          },
          "metadata": {}
        },
        {
          "output_type": "stream",
          "name": "stdout",
          "text": [
            "Polynomial Regression Coefficients: [0.   1.94 0.2 ]\n",
            "Polynomial Regression Intercept: 0.06000000000000938\n"
          ]
        }
      ]
    },
    {
      "cell_type": "markdown",
      "source": [
        "9. Create a residuals plot for a regression model trained on this data:\n",
        "\n",
        "     ● X = [10, 20, 30, 40, 50]\n",
        "\n",
        "     ● Y = [15, 35, 40, 50, 65]\n",
        "\n",
        "     Assess heteroscedasticity by examining the spread of residuals.\n"
      ],
      "metadata": {
        "id": "arKYgFcRoCao"
      }
    },
    {
      "cell_type": "code",
      "metadata": {
        "colab": {
          "base_uri": "https://localhost:8080/",
          "height": 507
        },
        "id": "6028d512",
        "outputId": "777edc00-5481-4a78-d8da-19e6b03f452d"
      },
      "source": [
        "import numpy as np\n",
        "import matplotlib.pyplot as plt\n",
        "from sklearn.linear_model import LinearRegression\n",
        "\n",
        "X = np.array([10, 20, 30, 40, 50]).reshape(-1, 1)\n",
        "Y = np.array([15, 35, 40, 50, 65])\n",
        "\n",
        "model = LinearRegression()\n",
        "model.fit(X, Y)\n",
        "\n",
        "Y_pred = model.predict(X)\n",
        "\n",
        "residuals = Y - Y_pred\n",
        "\n",
        "plt.scatter(X, residuals, color='blue')\n",
        "plt.axhline(y=0, color='red', linestyle='--')\n",
        "plt.xlabel('X')\n",
        "plt.ylabel('Residuals')\n",
        "plt.title('Residuals Plot')\n",
        "plt.grid(True)\n",
        "plt.show()\n",
        "\n",
        "\n",
        "print(\"Model Intercept:\", model.intercept_)\n",
        "print(\"Model Coefficient:\", model.coef_[0])"
      ],
      "execution_count": 8,
      "outputs": [
        {
          "output_type": "display_data",
          "data": {
            "text/plain": [
              "<Figure size 640x480 with 1 Axes>"
            ],
            "image/png": "[encoded data removed]"
          },
          "metadata": {}
        },
        {
          "output_type": "stream",
          "name": "stdout",
          "text": [
            "Model Intercept: 6.499999999999993\n",
            "Model Coefficient: 1.1500000000000001\n"
          ]
        }
      ]
    },
    {
      "cell_type": "markdown",
      "source": [
        "10. Imagine you are a data scientist working for a real estate company. You\n",
        "     need to predict house prices using features like area, number of rooms, and location.\n",
        "\n",
        "     However, you detect heteroscedasticity and multicollinearity in your regression model. Explain the steps you would take to address these issues and ensure a robust model.\n",
        "     \n",
        "     - Here are the steps I would take as a data scientist:\n",
        "      \n",
        "       - Addressing Heteroscedasticity:\n",
        "         - I would first try to understand why heteroscedasticity is present.\n",
        "         - A common approach is to apply a transformation to the dependent variable (house price).\n",
        "         - If the pattern of heteroscedasticity is known or can be estimated, Weighted Least Squares regression can be used.\n",
        "         - Even if heteroscedasticity is present, the regression coefficients remain unbiased.\n",
        "         - Sometimes, heteroscedasticity can be a sign that the model is misspecified.\n",
        "\n",
        "        - Addressing Multicollinearity:\n",
        "          - I would use techniques like calculating Variance Inflation Factors (VIF) or examining the correlation matrix to identify which independent variables are highly correlated.\n",
        "          - If two or more variables are highly correlated, removing one of them is a straightforward solution.\n",
        "          - Instead of removing variables, I might create a new composite variable that combines the information from the highly correlated variables.\n",
        "          - Techniques like Principal Component Analysis (PCA) can be used to create a new set of uncorrelated variables from the original correlated variables.\n",
        "          - Regularization techniques like Ridge and Lasso regression can help mitigate the impact of multicollinearity by adding a penalty term to the loss function that shrinks the regression coefficients.\n",
        "\n",
        "        - Ensuring a Robust Model:\n",
        "\n",
        "          After addressing these issues, I would:\n",
        "          - Fit the model again with the chosen remedies and re-examine the residuals plot and VIF values to confirm that the issues have been mitigated.\n",
        "          - Verify if the other assumptions of linear regression are met.\n",
        "          - Use appropriate evaluation metrics on a separate test set to assess the model's predictive performance and generalization ability.\n",
        "          - Carefully interpret the coefficients of the final model, keeping in mind any transformations or variable combinations that were applied.\n",
        "          - Clearly communicate the steps taken to address heteroscedasticity and multicollinearity, as well as the final model's performance and limitations, to stakeholders."
      ],
      "metadata": {
        "id": "Ivxt0KCaor1J"
      }
    }
  ]
}